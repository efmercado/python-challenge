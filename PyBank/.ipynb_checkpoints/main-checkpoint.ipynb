{
 "cells": [
  {
   "cell_type": "code",
   "execution_count": 1,
   "metadata": {},
   "outputs": [],
   "source": [
    "# Importing dependencies\n",
    "import os\n",
    "import csv"
   ]
  },
  {
   "cell_type": "code",
   "execution_count": 2,
   "metadata": {},
   "outputs": [],
   "source": [
    "# Creating a variable that will hold the csv path\n",
    "csvpath = os.path.join('Resources','budget_data.csv')"
   ]
  },
  {
   "cell_type": "code",
   "execution_count": 4,
   "metadata": {},
   "outputs": [
    {
     "name": "stdout",
     "output_type": "stream",
     "text": [
      "Financial Analysis\n",
      "----------------------\n",
      "Total Months: 86\n",
      "Total: $38382578\n",
      "Average Change: $446309.05\n",
      "Greatest Increase in Profits: Feb-2012 ($1170593)\n",
      "Greatest Decrease in Profits: Sep-2013 ($-1196225)\n"
     ]
    }
   ],
   "source": [
    "# Creating variables to hold our months and profits values\n",
    "months = 0\n",
    "profit = 0\n",
    "greatest_profit = 0\n",
    "worst_loss = 0\n",
    "\n",
    "# Opening and reading the CSV file\n",
    "with open(csvpath) as csvfile:\n",
    "    csvreader = csv.reader(csvfile)\n",
    "\n",
    "# Skipping header rows\n",
    "    csvheader = next(csvreader)\n",
    "\n",
    "# Creating a text file for the results/output\n",
    "    results_file = open('pybank_analysis.txt', 'w')\n",
    "\n",
    "# Iterating and calculating the results\n",
    "    for row in csvreader:\n",
    "        months += 1\n",
    "        if int(row[1]) != 0:\n",
    "            profit += int(row[1])\n",
    "        if int(row[1]) != 0:\n",
    "            average_change = profit/months\n",
    "        if int(row[1]) > greatest_profit:\n",
    "            greatest_profit = int(row[1])\n",
    "            greatest_month = row[0]\n",
    "        if int(row[1]) < worst_loss:\n",
    "            worst_loss = int(row[1])\n",
    "            worst_month = row[0]\n",
    "\n",
    "# Printing out all results\n",
    "    print('Financial Analysis')\n",
    "    print('----------------------')\n",
    "    print(f'Total Months: {months}')\n",
    "    print(f'Total: ${profit}')\n",
    "    print(f'Average Change: ${round(average_change,2)}')\n",
    "    print(f'Greatest Increase in Profits: {greatest_month} (${greatest_profit})')\n",
    "    print(f'Greatest Decrease in Profits: {worst_month} (${worst_loss})')\n",
    "\n",
    "# Writing out all results\n",
    "    results_file.write('Financial Analysis \\n')\n",
    "    results_file.write('---------------------- \\n')\n",
    "    results_file.write(f'Total Months: {months} \\n')\n",
    "    results_file.write(f'Total: {profit} \\n')\n",
    "    results_file.write(f'Average Change: ${round(average_change,2)} \\n')\n",
    "    results_file.write(f'Greatest Increase in Profits: {greatest_month} (${greatest_profit}) \\n')\n",
    "    results_file.write(f'Greatest Decrease in Profits: {worst_month} (${worst_loss}) \\n')"
   ]
  },
  {
   "cell_type": "code",
   "execution_count": null,
   "metadata": {},
   "outputs": [],
   "source": []
  }
 ],
 "metadata": {
  "kernelspec": {
   "display_name": "Python 3",
   "language": "python",
   "name": "python3"
  },
  "language_info": {
   "codemirror_mode": {
    "name": "ipython",
    "version": 3
   },
   "file_extension": ".py",
   "mimetype": "text/x-python",
   "name": "python",
   "nbconvert_exporter": "python",
   "pygments_lexer": "ipython3",
   "version": "3.7.4"
  }
 },
 "nbformat": 4,
 "nbformat_minor": 2
}
