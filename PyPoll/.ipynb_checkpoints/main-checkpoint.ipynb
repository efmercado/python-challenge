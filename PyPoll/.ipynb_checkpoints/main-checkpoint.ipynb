{
 "cells": [
  {
   "cell_type": "code",
   "execution_count": 1,
   "metadata": {},
   "outputs": [],
   "source": [
    "# Importing dependencies\n",
    "import os\n",
    "import csv"
   ]
  },
  {
   "cell_type": "code",
   "execution_count": 2,
   "metadata": {},
   "outputs": [],
   "source": [
    "# Creating a variable that will hold the CSV path\n",
    "csvpath = os.path.join('Resources','election_data.csv')"
   ]
  },
  {
   "cell_type": "code",
   "execution_count": 3,
   "metadata": {},
   "outputs": [
    {
     "name": "stdout",
     "output_type": "stream",
     "text": [
      "['Khan', 'Correy', 'Li', \"O'Tooley\"]\n"
     ]
    }
   ],
   "source": [
    "# Printing out the candidates\n",
    "candidates = ['Khan', 'Correy', 'Li', \"O'Tooley\"]\n",
    "print(candidates)"
   ]
  },
  {
   "cell_type": "code",
   "execution_count": 4,
   "metadata": {},
   "outputs": [
    {
     "name": "stdout",
     "output_type": "stream",
     "text": [
      "5.00%\n",
      "O'Tooley: 500.00% (5) \n",
      "\n"
     ]
    }
   ],
   "source": [
    "x = 5\n",
    "print(f'{\"{:.2f}%\".format(x)}')\n",
    "print(f\"O'Tooley: {'{:.2f}%'.format(x * 100)} ({x}) \\n\")"
   ]
  },
  {
   "cell_type": "code",
   "execution_count": 4,
   "metadata": {},
   "outputs": [
    {
     "name": "stdout",
     "output_type": "stream",
     "text": [
      "['Voter ID', 'County', 'Candidate']\n"
     ]
    },
    {
     "ename": "TypeError",
     "evalue": "'_csv.reader' object is not subscriptable",
     "output_type": "error",
     "traceback": [
      "\u001b[0;31m---------------------------------------------------------------------------\u001b[0m",
      "\u001b[0;31mTypeError\u001b[0m                                 Traceback (most recent call last)",
      "\u001b[0;32m<ipython-input-4-732f1a3f0e98>\u001b[0m in \u001b[0;36m<module>\u001b[0;34m\u001b[0m\n\u001b[1;32m     13\u001b[0m     \u001b[0mcandidates\u001b[0m \u001b[0;34m=\u001b[0m \u001b[0;34m[\u001b[0m\u001b[0;34m]\u001b[0m\u001b[0;34m\u001b[0m\u001b[0;34m\u001b[0m\u001b[0m\n\u001b[1;32m     14\u001b[0m \u001b[0;34m\u001b[0m\u001b[0m\n\u001b[0;32m---> 15\u001b[0;31m     \u001b[0mprint\u001b[0m\u001b[0;34m(\u001b[0m\u001b[0mcsvreader\u001b[0m\u001b[0;34m[\u001b[0m\u001b[0;36m2\u001b[0m\u001b[0;34m]\u001b[0m\u001b[0;34m)\u001b[0m\u001b[0;34m\u001b[0m\u001b[0;34m\u001b[0m\u001b[0m\n\u001b[0m\u001b[1;32m     16\u001b[0m \u001b[0;34m\u001b[0m\u001b[0m\n\u001b[1;32m     17\u001b[0m \u001b[0;31m#     for row in csvreader:\u001b[0m\u001b[0;34m\u001b[0m\u001b[0;34m\u001b[0m\u001b[0;34m\u001b[0m\u001b[0m\n",
      "\u001b[0;31mTypeError\u001b[0m: '_csv.reader' object is not subscriptable"
     ]
    }
   ],
   "source": [
    "# Establishing a variable that will count the votes for each candidate\n",
    "khan = 0\n",
    "correy = 0\n",
    "li = 0\n",
    "otooley = 0\n",
    "\n",
    "# Opening and reading the CSV file\n",
    "with open(csvpath, newline = '') as election_data_file:\n",
    "    csvreader = csv.reader(election_data_file, delimiter = ',')\n",
    "\n",
    "# Skipping header row\n",
    "    csvheader = next(csvreader)\n",
    "       \n",
    "# Creating a text file for the results/output\n",
    "    results_file = open('pypoll_analysis.txt', 'w')\n",
    "\n",
    "# Iterating and calculating the results\n",
    "    for row in csvreader:\n",
    "        if str(row[2]) == str('Khan'):\n",
    "            khan += 1\n",
    "        if str(row[2]) == str('Correy'):\n",
    "            correy += 1\n",
    "        if str(row[2]) == str('Li'):\n",
    "            li += 1\n",
    "        if str(row[2]) == str(\"O'Tooley\"):\n",
    "            otooley += 1\n",
    "            \n",
    "    total_votes = khan + correy + li + otooley\n",
    "    \n",
    "# Print out all results\n",
    "    print('Election Results')\n",
    "    print('----------------------')\n",
    "    print(f'Total Votes: {total_votes}')\n",
    "    print(f'Khan: {\"{:.2f}%\".format(khan/total_votes * 100)} ({khan})')\n",
    "    print(f'Correy: {\"{:.2f}%\".format(correy/total_votes * 100)} ({correy})')\n",
    "    print(f'Li: {\"{:.2f}%\".format(li/total_votes * 100)} ({li})')\n",
    "    print(f\"O'Tooley: {'{:.2f}%'.format(otooley/total_votes * 100)} ({otooley})\")\n",
    "    print('----------------------')\n",
    "    print(f'Winner: Khan')\n",
    "    print('----------------------')\n",
    "    \n",
    "# Writing out all results in the text file\n",
    "    results_file.write('Election Results \\n')\n",
    "    results_file.write('---------------------- \\n')\n",
    "    results_file.write(f'Total Votes: {total_votes} \\n')\n",
    "    results_file.write(f'Khan: {\"{:.2f}%\".format(khan/total_votes * 100)} ({khan}) \\n')\n",
    "    results_file.write(f'Correy: {\"{:.2f}%\".format(correy/total_votes * 100)} ({correy}) \\n')\n",
    "    results_file.write(f'Li: {\"{:.2f}%\".format(li/total_votes * 100)} ({li}) \\n')\n",
    "    results_file.write(f\"O'Tooley: {'{:.2f}%'.format(otooley/total_votes * 100)} ({otooley}) \\n\")\n",
    "    results_file.write('---------------------- \\n')\n",
    "    results_file.write(f'Winner: Khan \\n')\n",
    "    results_file.write('---------------------- \\n')"
   ]
  },
  {
   "cell_type": "code",
   "execution_count": null,
   "metadata": {},
   "outputs": [],
   "source": []
  }
 ],
 "metadata": {
  "kernelspec": {
   "display_name": "Python 3",
   "language": "python",
   "name": "python3"
  },
  "language_info": {
   "codemirror_mode": {
    "name": "ipython",
    "version": 3
   },
   "file_extension": ".py",
   "mimetype": "text/x-python",
   "name": "python",
   "nbconvert_exporter": "python",
   "pygments_lexer": "ipython3",
   "version": "3.7.4"
  }
 },
 "nbformat": 4,
 "nbformat_minor": 2
}
